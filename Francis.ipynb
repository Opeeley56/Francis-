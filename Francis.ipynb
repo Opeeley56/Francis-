{
 "cells": [
  {
   "cell_type": "code",
   "execution_count": 3,
   "id": "47c7b1f1",
   "metadata": {},
   "outputs": [],
   "source": [
    "import numpy as np\n"
   ]
  },
  {
   "cell_type": "code",
   "execution_count": 4,
   "id": "fcfe7cd1",
   "metadata": {},
   "outputs": [],
   "source": [
    "# Sample observational data (in degrees Celsius) \n",
    "observations = np.array([15.2, 16.1, 14.5, 15.8, 25.0]) \n",
    "# Sample model predictions (in degrees Celsius) \n",
    "model_output = np.array([14.8, 15.5, 14.0, 16.0, 25.3])"
   ]
  },
  {
   "cell_type": "code",
   "execution_count": 5,
   "id": "f8775a1b",
   "metadata": {},
   "outputs": [],
   "source": [
    "# observational operator\n",
    "H = model_output/observations"
   ]
  },
  {
   "cell_type": "code",
   "execution_count": 6,
   "id": "ec53391a",
   "metadata": {},
   "outputs": [
    {
     "name": "stdout",
     "output_type": "stream",
     "text": [
      "observation covariance 18.807\n",
      "model covariance 21.477000000000004\n"
     ]
    }
   ],
   "source": [
    "# defining the covariance for the model and observations\n",
    "model_covariance = np.cov(model_output)\n",
    "observations_covariance = np.cov(observations)\n",
    "\n",
    "print(\"observation covariance\",observations_covariance)\n",
    "print(\"model covariance\",model_covariance)"
   ]
  },
  {
   "cell_type": "code",
   "execution_count": 7,
   "id": "f32028cd",
   "metadata": {},
   "outputs": [
    {
     "data": {
      "text/plain": [
       "array([0.58804642, 0.57425378, 0.60068348, 0.57499913, 0.46248482])"
      ]
     },
     "execution_count": 7,
     "metadata": {},
     "output_type": "execute_result"
    }
   ],
   "source": [
    "# defining the kalman weight (K)\n",
    "K = model_covariance * H.T * (H * model_covariance * H.T + observations)**-1\n",
    "K"
   ]
  },
  {
   "cell_type": "code",
   "execution_count": 8,
   "id": "0f3b5aa1",
   "metadata": {},
   "outputs": [
    {
     "data": {
      "text/plain": [
       "array([15.03521857, 15.84455227, 14.30034174, 15.88500017, 25.16125456])"
      ]
     },
     "execution_count": 8,
     "metadata": {},
     "output_type": "execute_result"
    }
   ],
   "source": [
    "# after combining the observation and the model_output\n",
    "Analysis = model_output + K * (observations - model_output)\n",
    "Analysis"
   ]
  },
  {
   "cell_type": "code",
   "execution_count": 9,
   "id": "1560c1b5",
   "metadata": {},
   "outputs": [
    {
     "name": "stdout",
     "output_type": "stream",
     "text": [
      "0.4242640687119287\n",
      "0.18193292385350326\n",
      "0.07472653802374048\n",
      "-0.12527346197625952\n"
     ]
    }
   ],
   "source": [
    "# finding the root mean square error and the bias mean\n",
    "rmse_model = np.sqrt(np.mean((model_output - observations)**2))\n",
    "rmse_state = np.sqrt(np.mean((Analysis - observations)**2))\n",
    "bias_obs = np.mean(observations - Analysis)\n",
    "bias_model = np.mean(model_output - Analysis)\n",
    "\n",
    "print(rmse_model)\n",
    "print(rmse_state)\n",
    "print(bias_obs)\n",
    "print(bias_model)"
   ]
  },
  {
   "cell_type": "code",
   "execution_count": null,
   "id": "dfe84984",
   "metadata": {},
   "outputs": [],
   "source": []
  },
  {
   "cell_type": "code",
   "execution_count": null,
   "id": "87076933",
   "metadata": {},
   "outputs": [],
   "source": []
  },
  {
   "cell_type": "code",
   "execution_count": null,
   "id": "b4feb0d7",
   "metadata": {},
   "outputs": [],
   "source": []
  },
  {
   "cell_type": "code",
   "execution_count": null,
   "id": "4d7695dc",
   "metadata": {},
   "outputs": [],
   "source": []
  }
 ],
 "metadata": {
  "kernelspec": {
   "display_name": "Python 3 (ipykernel)",
   "language": "python",
   "name": "python3"
  },
  "language_info": {
   "codemirror_mode": {
    "name": "ipython",
    "version": 3
   },
   "file_extension": ".py",
   "mimetype": "text/x-python",
   "name": "python",
   "nbconvert_exporter": "python",
   "pygments_lexer": "ipython3",
   "version": "3.9.12"
  }
 },
 "nbformat": 4,
 "nbformat_minor": 5
}
